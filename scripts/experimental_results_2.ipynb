{
 "cells": [
  {
   "cell_type": "markdown",
   "metadata": {},
   "source": [
    "# Evaluation of the Graph-based SLAM algorithm\n",
    "Including\n",
    "- Graph-based SLAM algorithm (Accuracy and Speed)\n",
    "- Occupancy Grid Mapping algorithm (Speed)\n",
    "- A* Path Planning (Speed)\n",
    "\n",
    "<img src=\"pic\\sim_config.png\">"
   ]
  },
  {
   "cell_type": "markdown",
   "metadata": {},
   "source": [
    "## How to use?\n",
    "1. Please load the configuration file **config.yaml** while starting the simulator;\n",
    "2. Make sure that the attribute of **evalution** is enabled and **save_csv_data** is true;\n",
    "3. Start the simulator and load one of the maps **graph_based_slam_example_1** to **graph_based_slam_example_8**;\n",
    "4. Click the play button and let the simulator run for a while;\n",
    "5. Click the button **Plot Slam Evaluation**, the estimation results will be shown in figures, and the raw data will be stored in the file **scripts/sobot_information1.csv** and **scripts/sobot_information2.csv** to analyse.\n",
    "6. Click the button of **Start Mapping** if you want to evaluate the mapping algorithm, but make sure that the attribute **mapping** has been enabled.\n",
    "7. Run all cells in the notebook to obtain figures, make sure that the inital working directory is **\"./sobot_rimulator/script\"**\n",
    "8. the resulting figures will be in the file **scripts/fig**"
   ]
  },
  {
   "cell_type": "code",
   "execution_count": 1,
   "metadata": {},
   "outputs": [
    {
     "data": {
      "text/plain": [
       "'/home/yixing/code/project_work/sobot-rimulator'"
      ]
     },
     "execution_count": 1,
     "metadata": {},
     "output_type": "execute_result"
    }
   ],
   "source": [
    "import pandas as pd\n",
    "import numpy as np\n",
    "import matplotlib.pyplot as plt\n",
    "import os\n",
    "os.chdir('../')  # set the working directory as \"./sobot_rimulator\"\n",
    "os.getcwd()"
   ]
  },
  {
   "cell_type": "code",
   "execution_count": 2,
   "metadata": {},
   "outputs": [],
   "source": [
    "filename_evaluation = \"scripts/sobot_information1.csv\"\n",
    "filename_runtime = \"scripts/sobot_information2.csv\""
   ]
  },
  {
   "cell_type": "markdown",
   "metadata": {},
   "source": [
    "## 1. Accuray of the Graph-based SLAM Evaluation\n",
    "This analysis is based on the file sobot_information1.csv"
   ]
  },
  {
   "cell_type": "code",
   "execution_count": 3,
   "metadata": {
    "scrolled": true
   },
   "outputs": [
    {
     "data": {
      "text/html": [
       "<div>\n",
       "<style scoped>\n",
       "    .dataframe tbody tr th:only-of-type {\n",
       "        vertical-align: middle;\n",
       "    }\n",
       "\n",
       "    .dataframe tbody tr th {\n",
       "        vertical-align: top;\n",
       "    }\n",
       "\n",
       "    .dataframe thead th {\n",
       "        text-align: right;\n",
       "    }\n",
       "</style>\n",
       "<table border=\"1\" class=\"dataframe\">\n",
       "  <thead>\n",
       "    <tr style=\"text-align: right;\">\n",
       "      <th></th>\n",
       "      <th>sim_circle</th>\n",
       "      <th>landmark_id</th>\n",
       "      <th>estimated_landmark_position</th>\n",
       "      <th>estimated_robot_pose</th>\n",
       "      <th>actual_landmark_position</th>\n",
       "      <th>actual_robot_pose</th>\n",
       "      <th>slam_name</th>\n",
       "    </tr>\n",
       "  </thead>\n",
       "  <tbody>\n",
       "    <tr>\n",
       "      <th>0</th>\n",
       "      <td>21</td>\n",
       "      <td>5</td>\n",
       "      <td>(-0.3937302932774861, 0.2922313449456154)</td>\n",
       "      <td>(-0.15079165003632802, 0.24709369178616, 2.730...</td>\n",
       "      <td>(-0.4276580103886659, 0.3373424400495555, -0.3...</td>\n",
       "      <td>(-0.16177054180753817, 0.26432764083670973, 2....</td>\n",
       "      <td>Graph-based SLAM</td>\n",
       "    </tr>\n",
       "    <tr>\n",
       "      <th>1</th>\n",
       "      <td>22</td>\n",
       "      <td>5</td>\n",
       "      <td>(-0.3937302932774861, 0.2922313449456154)</td>\n",
       "      <td>(-0.16476234415566565, 0.2513661170378793, 2.9...</td>\n",
       "      <td>(-0.4276580103886659, 0.3373424400495555, -0.3...</td>\n",
       "      <td>(-0.17526976625542068, 0.2700683734127768, 2.9...</td>\n",
       "      <td>Graph-based SLAM</td>\n",
       "    </tr>\n",
       "    <tr>\n",
       "      <th>2</th>\n",
       "      <td>23</td>\n",
       "      <td>5</td>\n",
       "      <td>(-0.3937302932774861, 0.2922313449456154)</td>\n",
       "      <td>(-0.18154180114866222, 0.2525282964953975, -3....</td>\n",
       "      <td>(-0.4276580103886659, 0.3373424400495555, -0.3...</td>\n",
       "      <td>(-0.19168585612143194, 0.2729139730093493, -3....</td>\n",
       "      <td>Graph-based SLAM</td>\n",
       "    </tr>\n",
       "    <tr>\n",
       "      <th>3</th>\n",
       "      <td>24</td>\n",
       "      <td>5</td>\n",
       "      <td>(-0.3937302932774861, 0.2922313449456154)</td>\n",
       "      <td>(-0.20182566159721174, 0.25021888860940056, -2...</td>\n",
       "      <td>(-0.4276580103886659, 0.3373424400495555, -0.3...</td>\n",
       "      <td>(-0.2121393525993701, 0.2718155557797013, -2.9...</td>\n",
       "      <td>Graph-based SLAM</td>\n",
       "    </tr>\n",
       "    <tr>\n",
       "      <th>4</th>\n",
       "      <td>25</td>\n",
       "      <td>5</td>\n",
       "      <td>(-0.3937302932774861, 0.2922313449456154)</td>\n",
       "      <td>(-0.22538955139660954, 0.2450205099201408, -2....</td>\n",
       "      <td>(-0.4276580103886659, 0.3373424400495555, -0.3...</td>\n",
       "      <td>(-0.23590560324456575, 0.2672314668394577, -2....</td>\n",
       "      <td>Graph-based SLAM</td>\n",
       "    </tr>\n",
       "  </tbody>\n",
       "</table>\n",
       "</div>"
      ],
      "text/plain": [
       "   sim_circle  landmark_id                estimated_landmark_position  \\\n",
       "0          21            5  (-0.3937302932774861, 0.2922313449456154)   \n",
       "1          22            5  (-0.3937302932774861, 0.2922313449456154)   \n",
       "2          23            5  (-0.3937302932774861, 0.2922313449456154)   \n",
       "3          24            5  (-0.3937302932774861, 0.2922313449456154)   \n",
       "4          25            5  (-0.3937302932774861, 0.2922313449456154)   \n",
       "\n",
       "                                estimated_robot_pose  \\\n",
       "0  (-0.15079165003632802, 0.24709369178616, 2.730...   \n",
       "1  (-0.16476234415566565, 0.2513661170378793, 2.9...   \n",
       "2  (-0.18154180114866222, 0.2525282964953975, -3....   \n",
       "3  (-0.20182566159721174, 0.25021888860940056, -2...   \n",
       "4  (-0.22538955139660954, 0.2450205099201408, -2....   \n",
       "\n",
       "                            actual_landmark_position  \\\n",
       "0  (-0.4276580103886659, 0.3373424400495555, -0.3...   \n",
       "1  (-0.4276580103886659, 0.3373424400495555, -0.3...   \n",
       "2  (-0.4276580103886659, 0.3373424400495555, -0.3...   \n",
       "3  (-0.4276580103886659, 0.3373424400495555, -0.3...   \n",
       "4  (-0.4276580103886659, 0.3373424400495555, -0.3...   \n",
       "\n",
       "                                   actual_robot_pose         slam_name  \n",
       "0  (-0.16177054180753817, 0.26432764083670973, 2....  Graph-based SLAM  \n",
       "1  (-0.17526976625542068, 0.2700683734127768, 2.9...  Graph-based SLAM  \n",
       "2  (-0.19168585612143194, 0.2729139730093493, -3....  Graph-based SLAM  \n",
       "3  (-0.2121393525993701, 0.2718155557797013, -2.9...  Graph-based SLAM  \n",
       "4  (-0.23590560324456575, 0.2672314668394577, -2....  Graph-based SLAM  "
      ]
     },
     "execution_count": 3,
     "metadata": {},
     "output_type": "execute_result"
    }
   ],
   "source": [
    "df = pd.read_csv(filename_evaluation, index_col=0)\n",
    "df.head(5)"
   ]
  },
  {
   "cell_type": "code",
   "execution_count": 4,
   "metadata": {},
   "outputs": [
    {
     "name": "stderr",
     "output_type": "stream",
     "text": [
      "/home/yixing/.local/lib/python3.8/site-packages/pandas/core/indexing.py:1596: SettingWithCopyWarning: \n",
      "A value is trying to be set on a copy of a slice from a DataFrame.\n",
      "Try using .loc[row_indexer,col_indexer] = value instead\n",
      "\n",
      "See the caveats in the documentation: https://pandas.pydata.org/pandas-docs/stable/user_guide/indexing.html#returning-a-view-versus-a-copy\n",
      "  self.obj[key] = _infer_fill_value(value)\n",
      "/home/yixing/.local/lib/python3.8/site-packages/pandas/core/indexing.py:1743: SettingWithCopyWarning: \n",
      "A value is trying to be set on a copy of a slice from a DataFrame.\n",
      "Try using .loc[row_indexer,col_indexer] = value instead\n",
      "\n",
      "See the caveats in the documentation: https://pandas.pydata.org/pandas-docs/stable/user_guide/indexing.html#returning-a-view-versus-a-copy\n",
      "  isetter(ilocs[0], value)\n"
     ]
    }
   ],
   "source": [
    "df_lm = df[[\"sim_circle\", \"slam_name\", \"landmark_id\", \"estimated_landmark_position\", \"actual_landmark_position\"]]\n",
    "actual_landmark_position =  np.array([eval(x)[0:2] for x in df_lm[\"actual_landmark_position\"].tolist()])\n",
    "estimated_landmark_position = np.array([eval(x) for x in df_lm[\"estimated_landmark_position\"].tolist()])\n",
    "distance = np.linalg.norm(actual_landmark_position-estimated_landmark_position, axis = 1)\n",
    "df_lm.loc[:, 'distance'] = distance\n",
    "df_lm_sum = df_lm.groupby(['sim_circle','slam_name'])[\"distance\"].mean().unstack(level = -1)"
   ]
  },
  {
   "cell_type": "code",
   "execution_count": 5,
   "metadata": {},
   "outputs": [],
   "source": [
    "df_robot = df[[\"sim_circle\",\"estimated_robot_pose\",\"actual_robot_pose\",\"slam_name\"]]\n",
    "df_robot = df_robot.drop_duplicates([\"sim_circle\", \"slam_name\"])\n",
    "estimated_robot_pose = np.array([eval(x)[0:2] for x in df_robot[\"estimated_robot_pose\"].tolist()])\n",
    "actual_robot_pose = np.array([eval(x)[0:2] for x in df_robot[\"actual_robot_pose\"].tolist()])\n",
    "distance = np.linalg.norm(estimated_robot_pose-actual_robot_pose, axis = 1)\n",
    "df_robot.loc[:, 'distance'] = distance\n",
    "df_robot_pivot = df_robot.pivot(index = \"sim_circle\", columns = \"slam_name\", \n",
    "            values=\"distance\")"
   ]
  },
  {
   "cell_type": "code",
   "execution_count": 11,
   "metadata": {},
   "outputs": [
    {
     "data": {
      "image/png": "[encoded data removed]",
      "text/plain": [
       "<Figure size 720x216 with 2 Axes>"
      ]
     },
     "metadata": {
      "needs_background": "light"
     },
     "output_type": "display_data"
    }
   ],
   "source": [
    "plt.subplot(1,2,1)\n",
    "df_robot_pivot[\"Graph-based SLAM\"].plot(color = \"k\", rot = 0, figsize=(10,3))\n",
    "plt.xlabel(\"Simulation cycles\")\n",
    "plt.ylabel(\"Distance in meters\")\n",
    "plt.title(\"Distance to true robot position in meters\")\n",
    "\n",
    "plt.tight_layout()\n",
    "plt.subplots_adjust(wspace=0.4)\n",
    "#plt.savefig('./scripts/fig/{0}.eps'.format(\"fig4\"), format='eps', bbox_inches='tight')\n",
    "plt.subplot(1,2,2)\n",
    "df_lm_sum[\"Graph-based SLAM\"].plot(color = \"k\", rot = 0, figsize=(10,3))\n",
    "plt.xlabel(\"Simulation cycles\")\n",
    "plt.ylabel(\"Average distance in meters\")\n",
    "plt.title(\"Average distance to true landmark in meters\")\n",
    "plt.savefig('./scripts/fig/{0}.eps'.format(\"fig3\"), format='eps', bbox_inches='tight')"
   ]
  },
  {
   "cell_type": "code",
   "execution_count": 7,
   "metadata": {},
   "outputs": [
    {
     "data": {
      "text/html": [
       "<div>\n",
       "<style scoped>\n",
       "    .dataframe tbody tr th:only-of-type {\n",
       "        vertical-align: middle;\n",
       "    }\n",
       "\n",
       "    .dataframe tbody tr th {\n",
       "        vertical-align: top;\n",
       "    }\n",
       "\n",
       "    .dataframe thead th {\n",
       "        text-align: right;\n",
       "    }\n",
       "</style>\n",
       "<table border=\"1\" class=\"dataframe\">\n",
       "  <thead>\n",
       "    <tr style=\"text-align: right;\">\n",
       "      <th></th>\n",
       "      <th>sim_circle</th>\n",
       "      <th>name</th>\n",
       "      <th>time_per_update</th>\n",
       "    </tr>\n",
       "  </thead>\n",
       "  <tbody>\n",
       "    <tr>\n",
       "      <th>0</th>\n",
       "      <td>1</td>\n",
       "      <td>Graph-based SLAM</td>\n",
       "      <td>0.000054</td>\n",
       "    </tr>\n",
       "    <tr>\n",
       "      <th>1</th>\n",
       "      <td>1</td>\n",
       "      <td>OccupancyGridMapping2d</td>\n",
       "      <td>0.000311</td>\n",
       "    </tr>\n",
       "    <tr>\n",
       "      <th>2</th>\n",
       "      <td>1</td>\n",
       "      <td>A Star planning</td>\n",
       "      <td>0.000001</td>\n",
       "    </tr>\n",
       "    <tr>\n",
       "      <th>3</th>\n",
       "      <td>2</td>\n",
       "      <td>Graph-based SLAM</td>\n",
       "      <td>0.000059</td>\n",
       "    </tr>\n",
       "    <tr>\n",
       "      <th>4</th>\n",
       "      <td>2</td>\n",
       "      <td>OccupancyGridMapping2d</td>\n",
       "      <td>0.000666</td>\n",
       "    </tr>\n",
       "  </tbody>\n",
       "</table>\n",
       "</div>"
      ],
      "text/plain": [
       "   sim_circle                    name  time_per_update\n",
       "0           1        Graph-based SLAM         0.000054\n",
       "1           1  OccupancyGridMapping2d         0.000311\n",
       "2           1         A Star planning         0.000001\n",
       "3           2        Graph-based SLAM         0.000059\n",
       "4           2  OccupancyGridMapping2d         0.000666"
      ]
     },
     "execution_count": 7,
     "metadata": {},
     "output_type": "execute_result"
    }
   ],
   "source": [
    "df2 = pd.read_csv(filename_runtime, index_col=0)\n",
    "df2.head(5)"
   ]
  },
  {
   "cell_type": "code",
   "execution_count": 8,
   "metadata": {},
   "outputs": [],
   "source": [
    "df2_mean = df2.groupby([\"sim_circle\", \"name\"])[\"time_per_update\"].mean().unstack()"
   ]
  },
  {
   "cell_type": "code",
   "execution_count": 13,
   "metadata": {},
   "outputs": [
    {
     "data": {
      "image/png": "[encoded data removed]",
      "text/plain": [
       "<Figure size 1080x216 with 3 Axes>"
      ]
     },
     "metadata": {
      "needs_background": "light"
     },
     "output_type": "display_data"
    }
   ],
   "source": [
    "df2_cum = df2_mean.cumsum()\n",
    "plt.subplot(1,3,1)\n",
    "df2_cum[\"Graph-based SLAM\"].plot(color = \"k\", rot = 0, figsize=(15,3))\n",
    "plt.xlabel(\"Simulation cycles\")\n",
    "plt.ylabel(\"Cumulative time used for updates [s]\")\n",
    "plt.title(\"Graph-based SLAM\")\n",
    "\n",
    "plt.subplot(1,3,2)\n",
    "df2_cum[\"OccupancyGridMapping2d\"].plot(color = \"k\", rot = 0, figsize=(15,3))\n",
    "plt.xlabel(\"Simulation cycles\")\n",
    "plt.ylabel(\"Cumulative time used for updates [s]\")\n",
    "plt.title(\"Occupancy Grid Mapping\")\n",
    "\n",
    "plt.subplot(1,3,3)\n",
    "df2_cum[\"A Star planning\"].plot(color = \"k\", rot = 0, figsize=(15,3))\n",
    "plt.xlabel(\"Simulation cycles\")\n",
    "plt.ylabel(\"Cumulative time used for updates [s]\")\n",
    "plt.title(\"A* Path Planning\")\n",
    "\n",
    "plt.suptitle(\"Cumulative Time Used for Updates\", size = 18)\n",
    "plt.tight_layout()\n",
    "plt.savefig('./scripts/fig/{0}.eps'.format(\"fig4\"), format='eps', bbox_inches='tight')"
   ]
  },
  {
   "cell_type": "code",
   "execution_count": null,
   "metadata": {},
   "outputs": [],
   "source": []
  }
 ],
 "metadata": {
  "kernelspec": {
   "display_name": "Python 3",
   "language": "python",
   "name": "python3"
  },
  "language_info": {
   "codemirror_mode": {
    "name": "ipython",
    "version": 3
   },
   "file_extension": ".py",
   "mimetype": "text/x-python",
   "name": "python",
   "nbconvert_exporter": "python",
   "pygments_lexer": "ipython3",
   "version": "3.8.5"
  }
 },
 "nbformat": 4,
 "nbformat_minor": 4
}
