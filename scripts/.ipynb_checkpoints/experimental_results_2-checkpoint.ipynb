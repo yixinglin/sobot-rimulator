{
 "cells": [
  {
   "cell_type": "markdown",
   "metadata": {},
   "source": [
    "# Evaluation of the Graph-based SLAM algorithm\n",
    "Including\n",
    "- Graph-based SLAM algorithm (Accuracy and Speed)\n",
    "- Occupancy Grid Mapping algorithm (Speed)\n",
    "- A* Path Planning (Speed)\n",
    "\n",
    "<img src=\"pic\\sim_config.png\">"
   ]
  },
  {
   "cell_type": "markdown",
   "metadata": {},
   "source": [
    "## How to use?\n",
    "1. Please load the configuration file **config.yaml** while starting the simulator;\n",
    "2. Make sure that the attribute of **evalution** is enabled;\n",
    "3. Start the simulator and load one of the maps **graph_based_slam_example_1** to **graph_based_slam_example_8**;\n",
    "4. Click the play button and let the simulator run for a while;\n",
    "5. Click the button **Plot Slam Evaluation**, the estimation results will be shown in figures, and the raw data will be stored in the file **scripts/sobot_information1.csv** and **scripts/sobot_information2.csv** to analyse.\n",
    "6. Click the button of **Start Mapping** if you want to evaluate the mapping algorithm, but make sure that the attribute **mapping** has been enabled.\n",
    "7. Run all cells in the notebook to obtain figures, make sure that the inital working directory is **\"./sobot_rimulator/script\"**\n",
    "8. the resulting figures will be in the file **scripts/fig**"
   ]
  },
  {
   "cell_type": "code",
   "execution_count": 1,
   "metadata": {},
   "outputs": [
    {
     "data": {
      "text/plain": [
       "'/home/yixing/code/project_work/sobot-rimulator'"
      ]
     },
     "execution_count": 1,
     "metadata": {},
     "output_type": "execute_result"
    }
   ],
   "source": [
    "import pandas as pd\n",
    "import numpy as np\n",
    "import matplotlib.pyplot as plt\n",
    "import os\n",
    "os.chdir('../')  # set the working directory as \"./sobot_rimulator\"\n",
    "os.getcwd()"
   ]
  },
  {
   "cell_type": "code",
   "execution_count": 2,
   "metadata": {},
   "outputs": [],
   "source": [
    "filename_evaluation = \"scripts/sobot_information1.csv\"\n",
    "filename_runtime = \"scripts/sobot_information2.csv\""
   ]
  },
  {
   "cell_type": "markdown",
   "metadata": {},
   "source": [
    "## 1. Accuray of the Graph-based SLAM Evaluation\n",
    "This analysis is based on the file sobot_information1.csv"
   ]
  },
  {
   "cell_type": "code",
   "execution_count": 8,
   "metadata": {
    "scrolled": true
   },
   "outputs": [
    {
     "data": {
      "text/html": [
       "<div>\n",
       "<style scoped>\n",
       "    .dataframe tbody tr th:only-of-type {\n",
       "        vertical-align: middle;\n",
       "    }\n",
       "\n",
       "    .dataframe tbody tr th {\n",
       "        vertical-align: top;\n",
       "    }\n",
       "\n",
       "    .dataframe thead tr th {\n",
       "        text-align: left;\n",
       "    }\n",
       "</style>\n",
       "<table border=\"1\" class=\"dataframe\">\n",
       "  <thead>\n",
       "    <tr>\n",
       "      <th></th>\n",
       "      <th>sim_circle</th>\n",
       "      <th>landmark_id</th>\n",
       "      <th colspan=\"2\" halign=\"left\">estimated_landmark_position</th>\n",
       "      <th colspan=\"3\" halign=\"left\">estimated_robot_pose</th>\n",
       "      <th colspan=\"2\" halign=\"left\">actual_landmark_position</th>\n",
       "      <th colspan=\"3\" halign=\"left\">actual_robot_pose</th>\n",
       "      <th>slam_name</th>\n",
       "    </tr>\n",
       "    <tr>\n",
       "      <th></th>\n",
       "      <th>Unnamed: 1_level_1</th>\n",
       "      <th>Unnamed: 2_level_1</th>\n",
       "      <th>x</th>\n",
       "      <th>y</th>\n",
       "      <th>x</th>\n",
       "      <th>y</th>\n",
       "      <th>yaw</th>\n",
       "      <th>x</th>\n",
       "      <th>y</th>\n",
       "      <th>x</th>\n",
       "      <th>y</th>\n",
       "      <th>yaw</th>\n",
       "      <th>Unnamed: 13_level_1</th>\n",
       "    </tr>\n",
       "  </thead>\n",
       "  <tbody>\n",
       "    <tr>\n",
       "      <th>0</th>\n",
       "      <td>20</td>\n",
       "      <td>299</td>\n",
       "      <td>-0.252722</td>\n",
       "      <td>-0.100767</td>\n",
       "      <td>-0.104119</td>\n",
       "      <td>-0.032555</td>\n",
       "      <td>2.838885</td>\n",
       "      <td>-0.274778</td>\n",
       "      <td>-0.129983</td>\n",
       "      <td>-0.096289</td>\n",
       "      <td>-0.034145</td>\n",
       "      <td>2.852185</td>\n",
       "      <td>Graph-based SLAM</td>\n",
       "    </tr>\n",
       "    <tr>\n",
       "      <th>1</th>\n",
       "      <td>21</td>\n",
       "      <td>299</td>\n",
       "      <td>-0.252722</td>\n",
       "      <td>-0.100767</td>\n",
       "      <td>-0.113327</td>\n",
       "      <td>-0.028481</td>\n",
       "      <td>2.611255</td>\n",
       "      <td>-0.274778</td>\n",
       "      <td>-0.129983</td>\n",
       "      <td>-0.105997</td>\n",
       "      <td>-0.031254</td>\n",
       "      <td>2.621869</td>\n",
       "      <td>Graph-based SLAM</td>\n",
       "    </tr>\n",
       "    <tr>\n",
       "      <th>2</th>\n",
       "      <td>22</td>\n",
       "      <td>299</td>\n",
       "      <td>-0.252722</td>\n",
       "      <td>-0.100767</td>\n",
       "      <td>-0.125286</td>\n",
       "      <td>-0.023190</td>\n",
       "      <td>2.838885</td>\n",
       "      <td>-0.274778</td>\n",
       "      <td>-0.129983</td>\n",
       "      <td>-0.117400</td>\n",
       "      <td>-0.024729</td>\n",
       "      <td>2.849448</td>\n",
       "      <td>Graph-based SLAM</td>\n",
       "    </tr>\n",
       "    <tr>\n",
       "      <th>3</th>\n",
       "      <td>23</td>\n",
       "      <td>299</td>\n",
       "      <td>-0.252722</td>\n",
       "      <td>-0.100767</td>\n",
       "      <td>-0.133481</td>\n",
       "      <td>-0.019565</td>\n",
       "      <td>2.611255</td>\n",
       "      <td>-0.274778</td>\n",
       "      <td>-0.129983</td>\n",
       "      <td>-0.125897</td>\n",
       "      <td>-0.022174</td>\n",
       "      <td>2.620232</td>\n",
       "      <td>Graph-based SLAM</td>\n",
       "    </tr>\n",
       "    <tr>\n",
       "      <th>4</th>\n",
       "      <td>24</td>\n",
       "      <td>299</td>\n",
       "      <td>-0.252722</td>\n",
       "      <td>-0.100767</td>\n",
       "      <td>-0.150309</td>\n",
       "      <td>-0.010865</td>\n",
       "      <td>2.717702</td>\n",
       "      <td>-0.274778</td>\n",
       "      <td>-0.129983</td>\n",
       "      <td>-0.142329</td>\n",
       "      <td>-0.012735</td>\n",
       "      <td>2.730695</td>\n",
       "      <td>Graph-based SLAM</td>\n",
       "    </tr>\n",
       "  </tbody>\n",
       "</table>\n",
       "</div>"
      ],
      "text/plain": [
       "          sim_circle        landmark_id estimated_landmark_position            \\\n",
       "  Unnamed: 1_level_1 Unnamed: 2_level_1                           x         y   \n",
       "0                 20                299                   -0.252722 -0.100767   \n",
       "1                 21                299                   -0.252722 -0.100767   \n",
       "2                 22                299                   -0.252722 -0.100767   \n",
       "3                 23                299                   -0.252722 -0.100767   \n",
       "4                 24                299                   -0.252722 -0.100767   \n",
       "\n",
       "  estimated_robot_pose                     actual_landmark_position            \\\n",
       "                     x         y       yaw                        x         y   \n",
       "0            -0.104119 -0.032555  2.838885                -0.274778 -0.129983   \n",
       "1            -0.113327 -0.028481  2.611255                -0.274778 -0.129983   \n",
       "2            -0.125286 -0.023190  2.838885                -0.274778 -0.129983   \n",
       "3            -0.133481 -0.019565  2.611255                -0.274778 -0.129983   \n",
       "4            -0.150309 -0.010865  2.717702                -0.274778 -0.129983   \n",
       "\n",
       "  actual_robot_pose                               slam_name  \n",
       "                  x         y       yaw Unnamed: 13_level_1  \n",
       "0         -0.096289 -0.034145  2.852185    Graph-based SLAM  \n",
       "1         -0.105997 -0.031254  2.621869    Graph-based SLAM  \n",
       "2         -0.117400 -0.024729  2.849448    Graph-based SLAM  \n",
       "3         -0.125897 -0.022174  2.620232    Graph-based SLAM  \n",
       "4         -0.142329 -0.012735  2.730695    Graph-based SLAM  "
      ]
     },
     "execution_count": 8,
     "metadata": {},
     "output_type": "execute_result"
    }
   ],
   "source": [
    "df = pd.read_csv(filename_evaluation, index_col=0,  header=[0,1])\n",
    "df.head(5)\n",
    "#print (df.columns)"
   ]
  },
  {
   "cell_type": "code",
   "execution_count": 22,
   "metadata": {},
   "outputs": [
    {
     "name": "stdout",
     "output_type": "stream",
     "text": [
      "[-0.27477791266762264, -0.12998326524205464]\n"
     ]
    }
   ],
   "source": [
    "for x in df[\"actual_landmark_position\"].values.tolist():\n",
    "    print (x)\n",
    "    break"
   ]
  },
  {
   "cell_type": "code",
   "execution_count": 25,
   "metadata": {},
   "outputs": [
    {
     "name": "stdout",
     "output_type": "stream",
     "text": [
      "[[-0.2527220805064952, -0.10076664475247148], [-0.2527220805064952, -0.10076664475247148], [-0.2527220805064952, -0.10076664475247148], [-0.2527220805064952, -0.10076664475247148], [-0.2527220805064952, -0.10076664475247148], [-0.2527220805064952, -0.10076664475247148], [-0.2527220805064952, -0.10076664475247148], [-0.2527220805064952, -0.10076664475247148], [-0.2527220805064952, -0.10076664475247148], [-0.2527220805064952, -0.10076664475247148], [-0.2527220805064952, -0.10076664475247148]]\n"
     ]
    },
    {
     "ename": "TypeError",
     "evalue": "unsupported operand type(s) for -: 'list' and 'list'",
     "output_type": "error",
     "traceback": [
      "\u001b[0;31m---------------------------------------------------------------------------\u001b[0m",
      "\u001b[0;31mTypeError\u001b[0m                                 Traceback (most recent call last)",
      "\u001b[0;32m<ipython-input-25-ca4ea0a49337>\u001b[0m in \u001b[0;36m<module>\u001b[0;34m\u001b[0m\n\u001b[1;32m      5\u001b[0m \u001b[0mestimated_landmark_position\u001b[0m \u001b[0;34m=\u001b[0m \u001b[0mdf_lm\u001b[0m\u001b[0;34m[\u001b[0m\u001b[0;34m\"estimated_landmark_position\"\u001b[0m\u001b[0;34m]\u001b[0m\u001b[0;34m.\u001b[0m\u001b[0mvalues\u001b[0m\u001b[0;34m.\u001b[0m\u001b[0mtolist\u001b[0m\u001b[0;34m(\u001b[0m\u001b[0;34m)\u001b[0m\u001b[0;34m\u001b[0m\u001b[0;34m\u001b[0m\u001b[0m\n\u001b[1;32m      6\u001b[0m \u001b[0mprint\u001b[0m \u001b[0;34m(\u001b[0m\u001b[0mestimated_landmark_position\u001b[0m\u001b[0;34m)\u001b[0m\u001b[0;34m\u001b[0m\u001b[0;34m\u001b[0m\u001b[0m\n\u001b[0;32m----> 7\u001b[0;31m \u001b[0mdistance\u001b[0m \u001b[0;34m=\u001b[0m \u001b[0mnp\u001b[0m\u001b[0;34m.\u001b[0m\u001b[0mlinalg\u001b[0m\u001b[0;34m.\u001b[0m\u001b[0mnorm\u001b[0m\u001b[0;34m(\u001b[0m\u001b[0mactual_landmark_position\u001b[0m\u001b[0;34m-\u001b[0m\u001b[0mestimated_landmark_position\u001b[0m\u001b[0;34m,\u001b[0m \u001b[0maxis\u001b[0m \u001b[0;34m=\u001b[0m \u001b[0;36m1\u001b[0m\u001b[0;34m)\u001b[0m\u001b[0;34m\u001b[0m\u001b[0;34m\u001b[0m\u001b[0m\n\u001b[0m\u001b[1;32m      8\u001b[0m \u001b[0mdf_lm\u001b[0m\u001b[0;34m.\u001b[0m\u001b[0mloc\u001b[0m\u001b[0;34m[\u001b[0m\u001b[0;34m:\u001b[0m\u001b[0;34m,\u001b[0m \u001b[0;34m'distance'\u001b[0m\u001b[0;34m]\u001b[0m \u001b[0;34m=\u001b[0m \u001b[0mdistance\u001b[0m\u001b[0;34m\u001b[0m\u001b[0;34m\u001b[0m\u001b[0m\n\u001b[1;32m      9\u001b[0m \u001b[0mdf_lm_sum\u001b[0m \u001b[0;34m=\u001b[0m \u001b[0mdf_lm\u001b[0m\u001b[0;34m.\u001b[0m\u001b[0mgroupby\u001b[0m\u001b[0;34m(\u001b[0m\u001b[0;34m[\u001b[0m\u001b[0;34m'sim_circle'\u001b[0m\u001b[0;34m,\u001b[0m\u001b[0;34m'slam_name'\u001b[0m\u001b[0;34m]\u001b[0m\u001b[0;34m)\u001b[0m\u001b[0;34m[\u001b[0m\u001b[0;34m\"distance\"\u001b[0m\u001b[0;34m]\u001b[0m\u001b[0;34m.\u001b[0m\u001b[0mmean\u001b[0m\u001b[0;34m(\u001b[0m\u001b[0;34m)\u001b[0m\u001b[0;34m.\u001b[0m\u001b[0munstack\u001b[0m\u001b[0;34m(\u001b[0m\u001b[0mlevel\u001b[0m \u001b[0;34m=\u001b[0m \u001b[0;34m-\u001b[0m\u001b[0;36m1\u001b[0m\u001b[0;34m)\u001b[0m\u001b[0;34m\u001b[0m\u001b[0;34m\u001b[0m\u001b[0m\n",
      "\u001b[0;31mTypeError\u001b[0m: unsupported operand type(s) for -: 'list' and 'list'"
     ]
    }
   ],
   "source": [
    "df_lm = df[[\"sim_circle\", \"slam_name\", \"landmark_id\", \"estimated_landmark_position\", \"actual_landmark_position\"]]\n",
    "#actual_landmark_position =  np.array([eval(x)[0:2] for x in df_lm[\"actual_landmark_position\"].values.tolist()])#\n",
    "#estimated_landmark_position = np.array([eval(x) for x in df_lm[\"estimated_landmark_position\"].values.tolist()])\n",
    "actual_landmark_position = np.array(df_lm[\"actual_landmark_position\"].values.tolist())\n",
    "estimated_landmark_position = np.array(df_lm[\"estimated_landmark_position\"].values.tolist())\n",
    "\n",
    "distance = np.linalg.norm(actual_landmark_position-estimated_landmark_position, axis = 1)\n",
    "df_lm.loc[:, 'distance'] = distance\n",
    "df_lm_sum = df_lm.groupby(['sim_circle','slam_name'])[\"distance\"].mean().unstack(level = -1)"
   ]
  },
  {
   "cell_type": "code",
   "execution_count": 5,
   "metadata": {},
   "outputs": [],
   "source": [
    "df_robot = df[[\"sim_circle\",\"estimated_robot_pose\",\"actual_robot_pose\",\"slam_name\"]]\n",
    "df_robot = df_robot.drop_duplicates([\"sim_circle\", \"slam_name\"])\n",
    "estimated_robot_pose = np.array([eval(x)[0:2] for x in df_robot[\"estimated_robot_pose\"].tolist()])\n",
    "actual_robot_pose = np.array([eval(x)[0:2] for x in df_robot[\"actual_robot_pose\"].tolist()])\n",
    "distance = np.linalg.norm(estimated_robot_pose-actual_robot_pose, axis = 1)\n",
    "df_robot.loc[:, 'distance'] = distance\n",
    "df_robot_pivot = df_robot.pivot(index = \"sim_circle\", columns = \"slam_name\", \n",
    "            values=\"distance\")"
   ]
  },
  {
   "cell_type": "code",
   "execution_count": null,
   "metadata": {},
   "outputs": [],
   "source": []
  },
  {
   "cell_type": "code",
   "execution_count": 6,
   "metadata": {},
   "outputs": [
    {
     "data": {
      "image/png": "[encoded data removed]",
      "text/plain": [
       "<Figure size 720x216 with 2 Axes>"
      ]
     },
     "metadata": {
      "needs_background": "light"
     },
     "output_type": "display_data"
    }
   ],
   "source": [
    "plt.subplot(1,2,1)\n",
    "df_robot_pivot[\"Graph-based SLAM\"].plot(color = \"k\", rot = 0, figsize=(10,3))\n",
    "plt.xlabel(\"Simulation cycles\")\n",
    "plt.ylabel(\"Distance in meters\")\n",
    "plt.title(\"Distance to true robot position in meters\")\n",
    "\n",
    "plt.tight_layout()\n",
    "plt.subplots_adjust(wspace=0.4)\n",
    "#plt.savefig('./scripts/fig/{0}.eps'.format(\"fig4\"), format='eps', bbox_inches='tight')\n",
    "plt.subplot(1,2,2)\n",
    "df_lm_sum[\"Graph-based SLAM\"].plot(color = \"k\", rot = 0, figsize=(10,3))\n",
    "plt.xlabel(\"Simulation cycles\")\n",
    "plt.ylabel(\"Average distance in meters\")\n",
    "plt.title(\"Average distance to true landmark in meters\")\n",
    "plt.savefig('./scripts/fig/{0}.eps'.format(\"fig3\"), format='eps', bbox_inches='tight')"
   ]
  },
  {
   "cell_type": "code",
   "execution_count": 7,
   "metadata": {},
   "outputs": [
    {
     "data": {
      "text/html": [
       "<div>\n",
       "<style scoped>\n",
       "    .dataframe tbody tr th:only-of-type {\n",
       "        vertical-align: middle;\n",
       "    }\n",
       "\n",
       "    .dataframe tbody tr th {\n",
       "        vertical-align: top;\n",
       "    }\n",
       "\n",
       "    .dataframe thead th {\n",
       "        text-align: right;\n",
       "    }\n",
       "</style>\n",
       "<table border=\"1\" class=\"dataframe\">\n",
       "  <thead>\n",
       "    <tr style=\"text-align: right;\">\n",
       "      <th></th>\n",
       "      <th>sim_circle</th>\n",
       "      <th>name</th>\n",
       "      <th>time_per_update</th>\n",
       "    </tr>\n",
       "  </thead>\n",
       "  <tbody>\n",
       "    <tr>\n",
       "      <th>0</th>\n",
       "      <td>1</td>\n",
       "      <td>Graph-based SLAM</td>\n",
       "      <td>0.000054</td>\n",
       "    </tr>\n",
       "    <tr>\n",
       "      <th>1</th>\n",
       "      <td>1</td>\n",
       "      <td>OccupancyGridMapping2d</td>\n",
       "      <td>0.000311</td>\n",
       "    </tr>\n",
       "    <tr>\n",
       "      <th>2</th>\n",
       "      <td>1</td>\n",
       "      <td>A Star planning</td>\n",
       "      <td>0.000001</td>\n",
       "    </tr>\n",
       "    <tr>\n",
       "      <th>3</th>\n",
       "      <td>2</td>\n",
       "      <td>Graph-based SLAM</td>\n",
       "      <td>0.000059</td>\n",
       "    </tr>\n",
       "    <tr>\n",
       "      <th>4</th>\n",
       "      <td>2</td>\n",
       "      <td>OccupancyGridMapping2d</td>\n",
       "      <td>0.000666</td>\n",
       "    </tr>\n",
       "  </tbody>\n",
       "</table>\n",
       "</div>"
      ],
      "text/plain": [
       "   sim_circle                    name  time_per_update\n",
       "0           1        Graph-based SLAM         0.000054\n",
       "1           1  OccupancyGridMapping2d         0.000311\n",
       "2           1         A Star planning         0.000001\n",
       "3           2        Graph-based SLAM         0.000059\n",
       "4           2  OccupancyGridMapping2d         0.000666"
      ]
     },
     "execution_count": 7,
     "metadata": {},
     "output_type": "execute_result"
    }
   ],
   "source": [
    "df2 = pd.read_csv(filename_runtime, index_col=0)\n",
    "df2.head(5)"
   ]
  },
  {
   "cell_type": "code",
   "execution_count": 8,
   "metadata": {},
   "outputs": [],
   "source": [
    "df2_mean = df2.groupby([\"sim_circle\", \"name\"])[\"time_per_update\"].mean().unstack()"
   ]
  },
  {
   "cell_type": "code",
   "execution_count": 9,
   "metadata": {},
   "outputs": [
    {
     "data": {
      "image/png": "[encoded data removed]",
      "text/plain": [
       "<Figure size 1080x216 with 3 Axes>"
      ]
     },
     "metadata": {
      "needs_background": "light"
     },
     "output_type": "display_data"
    }
   ],
   "source": [
    "df2_cum = df2_mean.cumsum()\n",
    "plt.subplot(1,3,1)\n",
    "df2_cum[\"Graph-based SLAM\"].plot(color = \"k\", rot = 0, figsize=(15,3))\n",
    "plt.xlabel(\"Simulation circles\")\n",
    "plt.ylabel(\"Cumulative time used for updates [s]\")\n",
    "plt.title(\"Graph-based SLAM\")\n",
    "\n",
    "plt.subplot(1,3,2)\n",
    "df2_cum[\"OccupancyGridMapping2d\"].plot(color = \"k\", rot = 0, figsize=(15,3))\n",
    "plt.xlabel(\"Simulation circles\")\n",
    "plt.ylabel(\"Cumulative time used for updates [s]\")\n",
    "plt.title(\"Occupancy Grid Mapping\")\n",
    "\n",
    "plt.subplot(1,3,3)\n",
    "df2_cum[\"A Star planning\"].plot(color = \"k\", rot = 0, figsize=(15,3))\n",
    "plt.xlabel(\"Simulation circles\")\n",
    "plt.ylabel(\"Cumulative time used for updates [s]\")\n",
    "plt.title(\"A* Path Planning\")\n",
    "\n",
    "plt.suptitle(\"Cumulative Time Used for Updates\", size = 18)\n",
    "plt.tight_layout()\n",
    "plt.savefig('./scripts/fig/{0}.eps'.format(\"fig4\"), format='eps', bbox_inches='tight')"
   ]
  },
  {
   "cell_type": "code",
   "execution_count": null,
   "metadata": {},
   "outputs": [],
   "source": []
  }
 ],
 "metadata": {
  "kernelspec": {
   "display_name": "Python 3",
   "language": "python",
   "name": "python3"
  },
  "language_info": {
   "codemirror_mode": {
    "name": "ipython",
    "version": 3
   },
   "file_extension": ".py",
   "mimetype": "text/x-python",
   "name": "python",
   "nbconvert_exporter": "python",
   "pygments_lexer": "ipython3",
   "version": "3.8.5"
  }
 },
 "nbformat": 4,
 "nbformat_minor": 4
}
