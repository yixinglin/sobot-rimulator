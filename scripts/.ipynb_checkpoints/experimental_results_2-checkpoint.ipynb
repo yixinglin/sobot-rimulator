{
 "cells": [
  {
   "cell_type": "markdown",
   "metadata": {},
   "source": [
    "# Evaluation of the Graph-based SLAM algorithm\n",
    "- Graph-based SLAM algorithm (Accuracy and Speed)\n",
    "- Occupancy Grid Mapping algorithm (Speed)\n",
    "- A* Path Planning (Speed)\n",
    "\n",
    "<img src=\"pic\\sim_config.png\">"
   ]
  },
  {
   "cell_type": "markdown",
   "metadata": {},
   "source": [
    "## How to use?\n",
    "1. Please load the configuration file **config.yaml** while starting the simulator;\n",
    "2. Make sure that the attribute of **evalution** is enabled;\n",
    "3. Start the simulator and load one of the maps **graph_based_slam_example_1** to **graph_based_slam_example_8**;\n",
    "4. Click the play button and let the simulator run for a while;\n",
    "5. Click the button **Plot Slam Evaluation**, the estimation results will be shown in figures, and the raw data will be stored in the file **scripts/sobot_information1.csv** and **scripts/sobot_information2.csv** to analyse.\n",
    "6. Click the button of **Start Mapping** if you want to evaluate the mapping algorithm, but make sure that the attribute **mapping** has been enabled.\n",
    "7. Run all cells in the notebook to obtain figures, make sure that the inital working directory is \"./sobot_rimulator/script\""
   ]
  },
  {
   "cell_type": "code",
   "execution_count": 1,
   "metadata": {},
   "outputs": [
    {
     "data": {
      "text/plain": [
       "'/home/yixing/code/project_work/sobot-rimulator'"
      ]
     },
     "execution_count": 1,
     "metadata": {},
     "output_type": "execute_result"
    }
   ],
   "source": [
    "import pandas as pd\n",
    "import numpy as np\n",
    "import matplotlib.pyplot as plt\n",
    "import os\n",
    "os.chdir('../')  # set the working directory as \"./sobot_rimulator\"\n",
    "os.getcwd()"
   ]
  },
  {
   "cell_type": "code",
   "execution_count": 13,
   "metadata": {},
   "outputs": [],
   "source": [
    "filename_evaluation = \"script/sobot_information1.csv\"\n",
    "filename_runtime = \"script/sobot_information2.csv\""
   ]
  },
  {
   "cell_type": "markdown",
   "metadata": {},
   "source": [
    "## 1. Accuray of the Graph-based SLAM Evaluation\n",
    "This analysis is based on the file sobot_information1.csv"
   ]
  },
  {
   "cell_type": "code",
   "execution_count": 3,
   "metadata": {
    "scrolled": true
   },
   "outputs": [
    {
     "name": "stderr",
     "output_type": "stream",
     "text": [
      "/usr/local/lib/python3.8/dist-packages/numpy/lib/arraysetops.py:580: FutureWarning: elementwise comparison failed; returning scalar instead, but in the future will perform elementwise comparison\n",
      "  mask |= (ar1 == a)\n"
     ]
    },
    {
     "data": {
      "text/html": [
       "<div>\n",
       "<style scoped>\n",
       "    .dataframe tbody tr th:only-of-type {\n",
       "        vertical-align: middle;\n",
       "    }\n",
       "\n",
       "    .dataframe tbody tr th {\n",
       "        vertical-align: top;\n",
       "    }\n",
       "\n",
       "    .dataframe thead th {\n",
       "        text-align: right;\n",
       "    }\n",
       "</style>\n",
       "<table border=\"1\" class=\"dataframe\">\n",
       "  <thead>\n",
       "    <tr style=\"text-align: right;\">\n",
       "      <th></th>\n",
       "      <th>sim_circle</th>\n",
       "      <th>landmark_id</th>\n",
       "      <th>estimated_landmark_position</th>\n",
       "      <th>estimated_robot_pose</th>\n",
       "      <th>actual_landmark_position</th>\n",
       "      <th>actual_robot_pose</th>\n",
       "      <th>slam_name</th>\n",
       "    </tr>\n",
       "  </thead>\n",
       "  <tbody>\n",
       "    <tr>\n",
       "      <th>0</th>\n",
       "      <td>15</td>\n",
       "      <td>267</td>\n",
       "      <td>(0.16568688503707438, 0.1411911434187667)</td>\n",
       "      <td>(0.03315560343196506, 0.11927398796642033, 1.4...</td>\n",
       "      <td>(0.18349677854017213, 0.11076291577483477, -1....</td>\n",
       "      <td>(0.03152661336915672, 0.11830229146704309, 1.4...</td>\n",
       "      <td>Graph-based SLAM</td>\n",
       "    </tr>\n",
       "    <tr>\n",
       "      <th>1</th>\n",
       "      <td>16</td>\n",
       "      <td>267</td>\n",
       "      <td>(0.16568688503707438, 0.1411911434187667)</td>\n",
       "      <td>(0.033696650863689816, 0.13663880614591806, 1....</td>\n",
       "      <td>(0.18349677854017213, 0.11076291577483477, -1....</td>\n",
       "      <td>(0.0331206830812632, 0.1356350229986662, 1.613...</td>\n",
       "      <td>Graph-based SLAM</td>\n",
       "    </tr>\n",
       "    <tr>\n",
       "      <th>2</th>\n",
       "      <td>17</td>\n",
       "      <td>267</td>\n",
       "      <td>(0.16568688503707438, 0.1411911434187667)</td>\n",
       "      <td>(0.034685861951640994, 0.14926261154491516, 1....</td>\n",
       "      <td>(0.18349677854017213, 0.11076291577483477, -1....</td>\n",
       "      <td>(0.03257504283652646, 0.14838218350885524, 1.3...</td>\n",
       "      <td>Graph-based SLAM</td>\n",
       "    </tr>\n",
       "    <tr>\n",
       "      <th>3</th>\n",
       "      <td>18</td>\n",
       "      <td>267</td>\n",
       "      <td>(0.16568688503707438, 0.1411911434187667)</td>\n",
       "      <td>(0.03962434387574295, 0.17090357494622088, 1.3...</td>\n",
       "      <td>(0.18349677854017213, 0.11076291577483477, -1....</td>\n",
       "      <td>(0.03667282725169633, 0.17023738967199487, 1.3...</td>\n",
       "      <td>Graph-based SLAM</td>\n",
       "    </tr>\n",
       "    <tr>\n",
       "      <th>4</th>\n",
       "      <td>19</td>\n",
       "      <td>267</td>\n",
       "      <td>(0.16568688503707438, 0.1411911434187667)</td>\n",
       "      <td>(0.04723356935982855, 0.1992965304375902, 1.30...</td>\n",
       "      <td>(0.18349677854017213, 0.11076291577483477, -1....</td>\n",
       "      <td>(0.04399083306066338, 0.1987020649774797, 1.30...</td>\n",
       "      <td>Graph-based SLAM</td>\n",
       "    </tr>\n",
       "  </tbody>\n",
       "</table>\n",
       "</div>"
      ],
      "text/plain": [
       "   sim_circle  landmark_id                estimated_landmark_position  \\\n",
       "0          15          267  (0.16568688503707438, 0.1411911434187667)   \n",
       "1          16          267  (0.16568688503707438, 0.1411911434187667)   \n",
       "2          17          267  (0.16568688503707438, 0.1411911434187667)   \n",
       "3          18          267  (0.16568688503707438, 0.1411911434187667)   \n",
       "4          19          267  (0.16568688503707438, 0.1411911434187667)   \n",
       "\n",
       "                                estimated_robot_pose  \\\n",
       "0  (0.03315560343196506, 0.11927398796642033, 1.4...   \n",
       "1  (0.033696650863689816, 0.13663880614591806, 1....   \n",
       "2  (0.034685861951640994, 0.14926261154491516, 1....   \n",
       "3  (0.03962434387574295, 0.17090357494622088, 1.3...   \n",
       "4  (0.04723356935982855, 0.1992965304375902, 1.30...   \n",
       "\n",
       "                            actual_landmark_position  \\\n",
       "0  (0.18349677854017213, 0.11076291577483477, -1....   \n",
       "1  (0.18349677854017213, 0.11076291577483477, -1....   \n",
       "2  (0.18349677854017213, 0.11076291577483477, -1....   \n",
       "3  (0.18349677854017213, 0.11076291577483477, -1....   \n",
       "4  (0.18349677854017213, 0.11076291577483477, -1....   \n",
       "\n",
       "                                   actual_robot_pose         slam_name  \n",
       "0  (0.03152661336915672, 0.11830229146704309, 1.4...  Graph-based SLAM  \n",
       "1  (0.0331206830812632, 0.1356350229986662, 1.613...  Graph-based SLAM  \n",
       "2  (0.03257504283652646, 0.14838218350885524, 1.3...  Graph-based SLAM  \n",
       "3  (0.03667282725169633, 0.17023738967199487, 1.3...  Graph-based SLAM  \n",
       "4  (0.04399083306066338, 0.1987020649774797, 1.30...  Graph-based SLAM  "
      ]
     },
     "execution_count": 3,
     "metadata": {},
     "output_type": "execute_result"
    }
   ],
   "source": [
    "df = pd.read_csv(filename_evaluation, index_col=0)\n",
    "df.head(5)"
   ]
  },
  {
   "cell_type": "code",
   "execution_count": 4,
   "metadata": {},
   "outputs": [
    {
     "name": "stderr",
     "output_type": "stream",
     "text": [
      "/home/yixing/.local/lib/python3.8/site-packages/pandas/core/indexing.py:1596: SettingWithCopyWarning: \n",
      "A value is trying to be set on a copy of a slice from a DataFrame.\n",
      "Try using .loc[row_indexer,col_indexer] = value instead\n",
      "\n",
      "See the caveats in the documentation: https://pandas.pydata.org/pandas-docs/stable/user_guide/indexing.html#returning-a-view-versus-a-copy\n",
      "  self.obj[key] = _infer_fill_value(value)\n",
      "/home/yixing/.local/lib/python3.8/site-packages/pandas/core/indexing.py:1743: SettingWithCopyWarning: \n",
      "A value is trying to be set on a copy of a slice from a DataFrame.\n",
      "Try using .loc[row_indexer,col_indexer] = value instead\n",
      "\n",
      "See the caveats in the documentation: https://pandas.pydata.org/pandas-docs/stable/user_guide/indexing.html#returning-a-view-versus-a-copy\n",
      "  isetter(ilocs[0], value)\n"
     ]
    }
   ],
   "source": [
    "df_lm = df[[\"sim_circle\", \"slam_name\", \"landmark_id\", \"estimated_landmark_position\", \"actual_landmark_position\"]]\n",
    "actual_landmark_position =  np.array([eval(x)[0:2] for x in df_lm[\"actual_landmark_position\"].tolist()])\n",
    "estimated_landmark_position = np.array([eval(x) for x in df_lm[\"estimated_landmark_position\"].tolist()])\n",
    "distance = np.linalg.norm(actual_landmark_position-estimated_landmark_position, axis = 1)\n",
    "df_lm.loc[:, 'distance'] = distance\n",
    "df_lm_sum = df_lm.groupby(['sim_circle','slam_name'])[\"distance\"].mean().unstack(level = -1)"
   ]
  },
  {
   "cell_type": "code",
   "execution_count": 5,
   "metadata": {},
   "outputs": [],
   "source": [
    "df_robot = df[[\"sim_circle\",\"estimated_robot_pose\",\"actual_robot_pose\",\"slam_name\"]]\n",
    "df_robot = df_robot.drop_duplicates([\"sim_circle\", \"slam_name\"])\n",
    "estimated_robot_pose = np.array([eval(x)[0:2] for x in df_robot[\"estimated_robot_pose\"].tolist()])\n",
    "actual_robot_pose = np.array([eval(x)[0:2] for x in df_robot[\"actual_robot_pose\"].tolist()])\n",
    "distance = np.linalg.norm(estimated_robot_pose-actual_robot_pose, axis = 1)\n",
    "df_robot.loc[:, 'distance'] = distance\n",
    "df_robot_pivot = df_robot.pivot(index = \"sim_circle\", columns = \"slam_name\", \n",
    "            values=\"distance\")"
   ]
  },
  {
   "cell_type": "code",
   "execution_count": null,
   "metadata": {},
   "outputs": [],
   "source": []
  },
  {
   "cell_type": "code",
   "execution_count": 6,
   "metadata": {},
   "outputs": [
    {
     "data": {
      "image/png": "[encoded data removed]",
      "text/plain": [
       "<Figure size 720x216 with 2 Axes>"
      ]
     },
     "metadata": {
      "needs_background": "light"
     },
     "output_type": "display_data"
    }
   ],
   "source": [
    "plt.subplot(1,2,1)\n",
    "df_robot_pivot[\"Graph-based SLAM\"].plot(color = \"k\", rot = 0, figsize=(10,3))\n",
    "plt.xlabel(\"Simulation cycles\")\n",
    "plt.ylabel(\"Distance in meters\")\n",
    "plt.title(\"Distance to true robot position in meters\")\n",
    "\n",
    "plt.tight_layout()\n",
    "plt.subplots_adjust(wspace=0.4)\n",
    "#plt.savefig('./scripts/fig/{0}.eps'.format(\"fig4\"), format='eps', bbox_inches='tight')\n",
    "plt.subplot(1,2,2)\n",
    "df_lm_sum[\"Graph-based SLAM\"].plot(color = \"k\", rot = 0, figsize=(10,3))\n",
    "plt.xlabel(\"Simulation cycles\")\n",
    "plt.ylabel(\"Average distance in meters\")\n",
    "plt.title(\"Average distance to true landmark in meters\")\n",
    "plt.savefig('./scripts/fig/{0}.eps'.format(\"fig3\"), format='eps', bbox_inches='tight')"
   ]
  },
  {
   "cell_type": "code",
   "execution_count": 10,
   "metadata": {},
   "outputs": [
    {
     "data": {
      "text/html": [
       "<div>\n",
       "<style scoped>\n",
       "    .dataframe tbody tr th:only-of-type {\n",
       "        vertical-align: middle;\n",
       "    }\n",
       "\n",
       "    .dataframe tbody tr th {\n",
       "        vertical-align: top;\n",
       "    }\n",
       "\n",
       "    .dataframe thead th {\n",
       "        text-align: right;\n",
       "    }\n",
       "</style>\n",
       "<table border=\"1\" class=\"dataframe\">\n",
       "  <thead>\n",
       "    <tr style=\"text-align: right;\">\n",
       "      <th></th>\n",
       "      <th>sim_circle</th>\n",
       "      <th>name</th>\n",
       "      <th>time_per_update</th>\n",
       "    </tr>\n",
       "  </thead>\n",
       "  <tbody>\n",
       "    <tr>\n",
       "      <th>0</th>\n",
       "      <td>1</td>\n",
       "      <td>Graph-based SLAM</td>\n",
       "      <td>0.000061</td>\n",
       "    </tr>\n",
       "    <tr>\n",
       "      <th>1</th>\n",
       "      <td>2</td>\n",
       "      <td>Graph-based SLAM</td>\n",
       "      <td>0.000061</td>\n",
       "    </tr>\n",
       "    <tr>\n",
       "      <th>2</th>\n",
       "      <td>3</td>\n",
       "      <td>Graph-based SLAM</td>\n",
       "      <td>0.000068</td>\n",
       "    </tr>\n",
       "    <tr>\n",
       "      <th>3</th>\n",
       "      <td>4</td>\n",
       "      <td>Graph-based SLAM</td>\n",
       "      <td>0.000079</td>\n",
       "    </tr>\n",
       "    <tr>\n",
       "      <th>4</th>\n",
       "      <td>5</td>\n",
       "      <td>Graph-based SLAM</td>\n",
       "      <td>0.000063</td>\n",
       "    </tr>\n",
       "  </tbody>\n",
       "</table>\n",
       "</div>"
      ],
      "text/plain": [
       "   sim_circle              name  time_per_update\n",
       "0           1  Graph-based SLAM         0.000061\n",
       "1           2  Graph-based SLAM         0.000061\n",
       "2           3  Graph-based SLAM         0.000068\n",
       "3           4  Graph-based SLAM         0.000079\n",
       "4           5  Graph-based SLAM         0.000063"
      ]
     },
     "execution_count": 10,
     "metadata": {},
     "output_type": "execute_result"
    }
   ],
   "source": [
    "df2 = pd.read_csv(filename_runtime, index_col=0)\n",
    "df2.head(5)"
   ]
  },
  {
   "cell_type": "code",
   "execution_count": 11,
   "metadata": {},
   "outputs": [],
   "source": [
    "df2_mean = df2.groupby([\"sim_circle\", \"name\"])[\"time_per_update\"].mean().unstack()"
   ]
  },
  {
   "cell_type": "code",
   "execution_count": 12,
   "metadata": {},
   "outputs": [
    {
     "ename": "KeyError",
     "evalue": "'OccupancyGridMapping2d'",
     "output_type": "error",
     "traceback": [
      "\u001b[0;31m---------------------------------------------------------------------------\u001b[0m",
      "\u001b[0;31mKeyError\u001b[0m                                  Traceback (most recent call last)",
      "\u001b[0;32m~/.local/lib/python3.8/site-packages/pandas/core/indexes/base.py\u001b[0m in \u001b[0;36mget_loc\u001b[0;34m(self, key, method, tolerance)\u001b[0m\n\u001b[1;32m   2897\u001b[0m             \u001b[0;32mtry\u001b[0m\u001b[0;34m:\u001b[0m\u001b[0;34m\u001b[0m\u001b[0;34m\u001b[0m\u001b[0m\n\u001b[0;32m-> 2898\u001b[0;31m                 \u001b[0;32mreturn\u001b[0m \u001b[0mself\u001b[0m\u001b[0;34m.\u001b[0m\u001b[0m_engine\u001b[0m\u001b[0;34m.\u001b[0m\u001b[0mget_loc\u001b[0m\u001b[0;34m(\u001b[0m\u001b[0mcasted_key\u001b[0m\u001b[0;34m)\u001b[0m\u001b[0;34m\u001b[0m\u001b[0;34m\u001b[0m\u001b[0m\n\u001b[0m\u001b[1;32m   2899\u001b[0m             \u001b[0;32mexcept\u001b[0m \u001b[0mKeyError\u001b[0m \u001b[0;32mas\u001b[0m \u001b[0merr\u001b[0m\u001b[0;34m:\u001b[0m\u001b[0;34m\u001b[0m\u001b[0;34m\u001b[0m\u001b[0m\n",
      "\u001b[0;32mpandas/_libs/index.pyx\u001b[0m in \u001b[0;36mpandas._libs.index.IndexEngine.get_loc\u001b[0;34m()\u001b[0m\n",
      "\u001b[0;32mpandas/_libs/index.pyx\u001b[0m in \u001b[0;36mpandas._libs.index.IndexEngine.get_loc\u001b[0;34m()\u001b[0m\n",
      "\u001b[0;32mpandas/_libs/hashtable_class_helper.pxi\u001b[0m in \u001b[0;36mpandas._libs.hashtable.PyObjectHashTable.get_item\u001b[0;34m()\u001b[0m\n",
      "\u001b[0;32mpandas/_libs/hashtable_class_helper.pxi\u001b[0m in \u001b[0;36mpandas._libs.hashtable.PyObjectHashTable.get_item\u001b[0;34m()\u001b[0m\n",
      "\u001b[0;31mKeyError\u001b[0m: 'OccupancyGridMapping2d'",
      "\nThe above exception was the direct cause of the following exception:\n",
      "\u001b[0;31mKeyError\u001b[0m                                  Traceback (most recent call last)",
      "\u001b[0;32m<ipython-input-12-4ed13dd48bd5>\u001b[0m in \u001b[0;36m<module>\u001b[0;34m\u001b[0m\n\u001b[1;32m      7\u001b[0m \u001b[0;34m\u001b[0m\u001b[0m\n\u001b[1;32m      8\u001b[0m \u001b[0mplt\u001b[0m\u001b[0;34m.\u001b[0m\u001b[0msubplot\u001b[0m\u001b[0;34m(\u001b[0m\u001b[0;36m1\u001b[0m\u001b[0;34m,\u001b[0m\u001b[0;36m3\u001b[0m\u001b[0;34m,\u001b[0m\u001b[0;36m2\u001b[0m\u001b[0;34m)\u001b[0m\u001b[0;34m\u001b[0m\u001b[0;34m\u001b[0m\u001b[0m\n\u001b[0;32m----> 9\u001b[0;31m \u001b[0mdf2_cum\u001b[0m\u001b[0;34m[\u001b[0m\u001b[0;34m\"OccupancyGridMapping2d\"\u001b[0m\u001b[0;34m]\u001b[0m\u001b[0;34m.\u001b[0m\u001b[0mplot\u001b[0m\u001b[0;34m(\u001b[0m\u001b[0mcolor\u001b[0m \u001b[0;34m=\u001b[0m \u001b[0;34m\"k\"\u001b[0m\u001b[0;34m,\u001b[0m \u001b[0mrot\u001b[0m \u001b[0;34m=\u001b[0m \u001b[0;36m0\u001b[0m\u001b[0;34m,\u001b[0m \u001b[0mfigsize\u001b[0m\u001b[0;34m=\u001b[0m\u001b[0;34m(\u001b[0m\u001b[0;36m15\u001b[0m\u001b[0;34m,\u001b[0m\u001b[0;36m3\u001b[0m\u001b[0;34m)\u001b[0m\u001b[0;34m)\u001b[0m\u001b[0;34m\u001b[0m\u001b[0;34m\u001b[0m\u001b[0m\n\u001b[0m\u001b[1;32m     10\u001b[0m \u001b[0mplt\u001b[0m\u001b[0;34m.\u001b[0m\u001b[0mxlabel\u001b[0m\u001b[0;34m(\u001b[0m\u001b[0;34m\"Simulation circles\"\u001b[0m\u001b[0;34m)\u001b[0m\u001b[0;34m\u001b[0m\u001b[0;34m\u001b[0m\u001b[0m\n\u001b[1;32m     11\u001b[0m \u001b[0mplt\u001b[0m\u001b[0;34m.\u001b[0m\u001b[0mylabel\u001b[0m\u001b[0;34m(\u001b[0m\u001b[0;34m\"Cumulative time used for updates [s]\"\u001b[0m\u001b[0;34m)\u001b[0m\u001b[0;34m\u001b[0m\u001b[0;34m\u001b[0m\u001b[0m\n",
      "\u001b[0;32m~/.local/lib/python3.8/site-packages/pandas/core/frame.py\u001b[0m in \u001b[0;36m__getitem__\u001b[0;34m(self, key)\u001b[0m\n\u001b[1;32m   2904\u001b[0m             \u001b[0;32mif\u001b[0m \u001b[0mself\u001b[0m\u001b[0;34m.\u001b[0m\u001b[0mcolumns\u001b[0m\u001b[0;34m.\u001b[0m\u001b[0mnlevels\u001b[0m \u001b[0;34m>\u001b[0m \u001b[0;36m1\u001b[0m\u001b[0;34m:\u001b[0m\u001b[0;34m\u001b[0m\u001b[0;34m\u001b[0m\u001b[0m\n\u001b[1;32m   2905\u001b[0m                 \u001b[0;32mreturn\u001b[0m \u001b[0mself\u001b[0m\u001b[0;34m.\u001b[0m\u001b[0m_getitem_multilevel\u001b[0m\u001b[0;34m(\u001b[0m\u001b[0mkey\u001b[0m\u001b[0;34m)\u001b[0m\u001b[0;34m\u001b[0m\u001b[0;34m\u001b[0m\u001b[0m\n\u001b[0;32m-> 2906\u001b[0;31m             \u001b[0mindexer\u001b[0m \u001b[0;34m=\u001b[0m \u001b[0mself\u001b[0m\u001b[0;34m.\u001b[0m\u001b[0mcolumns\u001b[0m\u001b[0;34m.\u001b[0m\u001b[0mget_loc\u001b[0m\u001b[0;34m(\u001b[0m\u001b[0mkey\u001b[0m\u001b[0;34m)\u001b[0m\u001b[0;34m\u001b[0m\u001b[0;34m\u001b[0m\u001b[0m\n\u001b[0m\u001b[1;32m   2907\u001b[0m             \u001b[0;32mif\u001b[0m \u001b[0mis_integer\u001b[0m\u001b[0;34m(\u001b[0m\u001b[0mindexer\u001b[0m\u001b[0;34m)\u001b[0m\u001b[0;34m:\u001b[0m\u001b[0;34m\u001b[0m\u001b[0;34m\u001b[0m\u001b[0m\n\u001b[1;32m   2908\u001b[0m                 \u001b[0mindexer\u001b[0m \u001b[0;34m=\u001b[0m \u001b[0;34m[\u001b[0m\u001b[0mindexer\u001b[0m\u001b[0;34m]\u001b[0m\u001b[0;34m\u001b[0m\u001b[0;34m\u001b[0m\u001b[0m\n",
      "\u001b[0;32m~/.local/lib/python3.8/site-packages/pandas/core/indexes/base.py\u001b[0m in \u001b[0;36mget_loc\u001b[0;34m(self, key, method, tolerance)\u001b[0m\n\u001b[1;32m   2898\u001b[0m                 \u001b[0;32mreturn\u001b[0m \u001b[0mself\u001b[0m\u001b[0;34m.\u001b[0m\u001b[0m_engine\u001b[0m\u001b[0;34m.\u001b[0m\u001b[0mget_loc\u001b[0m\u001b[0;34m(\u001b[0m\u001b[0mcasted_key\u001b[0m\u001b[0;34m)\u001b[0m\u001b[0;34m\u001b[0m\u001b[0;34m\u001b[0m\u001b[0m\n\u001b[1;32m   2899\u001b[0m             \u001b[0;32mexcept\u001b[0m \u001b[0mKeyError\u001b[0m \u001b[0;32mas\u001b[0m \u001b[0merr\u001b[0m\u001b[0;34m:\u001b[0m\u001b[0;34m\u001b[0m\u001b[0;34m\u001b[0m\u001b[0m\n\u001b[0;32m-> 2900\u001b[0;31m                 \u001b[0;32mraise\u001b[0m \u001b[0mKeyError\u001b[0m\u001b[0;34m(\u001b[0m\u001b[0mkey\u001b[0m\u001b[0;34m)\u001b[0m \u001b[0;32mfrom\u001b[0m \u001b[0merr\u001b[0m\u001b[0;34m\u001b[0m\u001b[0;34m\u001b[0m\u001b[0m\n\u001b[0m\u001b[1;32m   2901\u001b[0m \u001b[0;34m\u001b[0m\u001b[0m\n\u001b[1;32m   2902\u001b[0m         \u001b[0;32mif\u001b[0m \u001b[0mtolerance\u001b[0m \u001b[0;32mis\u001b[0m \u001b[0;32mnot\u001b[0m \u001b[0;32mNone\u001b[0m\u001b[0;34m:\u001b[0m\u001b[0;34m\u001b[0m\u001b[0;34m\u001b[0m\u001b[0m\n",
      "\u001b[0;31mKeyError\u001b[0m: 'OccupancyGridMapping2d'"
     ]
    },
    {
     "data": {
      "image/png": "[encoded data removed]",
      "text/plain": [
       "<Figure size 1080x216 with 2 Axes>"
      ]
     },
     "metadata": {
      "needs_background": "light"
     },
     "output_type": "display_data"
    }
   ],
   "source": [
    "df2_cum = df2_mean.cumsum()\n",
    "plt.subplot(1,3,1)\n",
    "df2_cum[\"Graph-based SLAM\"].plot(color = \"k\", rot = 0, figsize=(15,3))\n",
    "plt.xlabel(\"Simulation circles\")\n",
    "plt.ylabel(\"Cumulative time used for updates [s]\")\n",
    "plt.title(\"Graph-based SLAM\")\n",
    "\n",
    "plt.subplot(1,3,2)\n",
    "df2_cum[\"OccupancyGridMapping2d\"].plot(color = \"k\", rot = 0, figsize=(15,3))\n",
    "plt.xlabel(\"Simulation circles\")\n",
    "plt.ylabel(\"Cumulative time used for updates [s]\")\n",
    "plt.title(\"Occupancy Grid Mapping\")\n",
    "\n",
    "plt.subplot(1,3,3)\n",
    "df2_cum[\"A Star planning\"].plot(color = \"k\", rot = 0, figsize=(15,3))\n",
    "plt.xlabel(\"Simulation circles\")\n",
    "plt.ylabel(\"Cumulative time used for updates [s]\")\n",
    "plt.title(\"A* Path Planning\")\n",
    "\n",
    "plt.suptitle(\"Cumulative Time Used for Updates\", size = 18)\n",
    "plt.tight_layout()\n",
    "plt.savefig('./scripts/fig/{0}.eps'.format(\"fig4\"), format='eps', bbox_inches='tight')"
   ]
  },
  {
   "cell_type": "code",
   "execution_count": null,
   "metadata": {},
   "outputs": [],
   "source": []
  }
 ],
 "metadata": {
  "kernelspec": {
   "display_name": "Python 3",
   "language": "python",
   "name": "python3"
  },
  "language_info": {
   "codemirror_mode": {
    "name": "ipython",
    "version": 3
   },
   "file_extension": ".py",
   "mimetype": "text/x-python",
   "name": "python",
   "nbconvert_exporter": "python",
   "pygments_lexer": "ipython3",
   "version": "3.8.5"
  }
 },
 "nbformat": 4,
 "nbformat_minor": 4
}
