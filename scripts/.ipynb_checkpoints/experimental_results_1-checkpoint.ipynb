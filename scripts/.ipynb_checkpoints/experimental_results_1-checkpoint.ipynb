{
 "cells": [
  {
   "cell_type": "markdown",
   "metadata": {},
   "source": [
    "# Visualization of the All SLAM Evaluations on the Simulator\n",
    "- EKF SLAM (Accuracy and Speed)\n",
    "- FastSLAM (Accuracy and Speed)\n",
    "- Graph-based SLAM (Accuracy and Speed)\n",
    "\n",
    "\n",
    "<img src=\"pic\\sim_config01.png\">"
   ]
  },
  {
   "cell_type": "markdown",
   "metadata": {},
   "source": [
    "## How to use?\n",
    "1. Please load the configuration file **config01.yaml** while starting the simulator;\n",
    "2. Make sure that the attribute of **evalution** is enabled and **save_csv_data** is true;\n",
    "3. Start the simulator and load one of the maps **slam_example_1** to **slam_example_8**;\n",
    "4. Click the play button and let the simulator run for a while;\n",
    "5. Click the button **Plot Slam Evaluation**, the estimation results will be shown in figures, and the raw data will be stored in the file **scripts/sobot_information1.csv** and **scripts/sobot_information2.csv** to analyse.\n",
    "6. Run all cells in the notebook to obtain figures.\n",
    "7. Run all cells in the notebook to obtain figures, make sure that the inital working directory is **\"./sobot_rimulator/script\"**\n",
    "8. the resulting figures will be in the file **scripts/fig**"
   ]
  },
  {
   "cell_type": "code",
   "execution_count": 11,
   "metadata": {},
   "outputs": [
    {
     "data": {
      "text/plain": [
       "'/home/yixing/code/project_work'"
      ]
     },
     "execution_count": 11,
     "metadata": {},
     "output_type": "execute_result"
    }
   ],
   "source": [
    "import pandas as pd\n",
    "import numpy as np\n",
    "import matplotlib.pyplot as plt\n",
    "import os\n",
    "import math\n",
    "os.chdir('../')  # set the working directory as \"./sobot_rimulator\"\n",
    "os.getcwd()"
   ]
  },
  {
   "cell_type": "code",
   "execution_count": 2,
   "metadata": {},
   "outputs": [],
   "source": [
    "# Path where the data is saved\n",
    "# This file records the inaccuracies of SLAM\n",
    "filename_evaluation = \"scripts/sobot_information1.csv\"  \n",
    "# This file records the runtime of algorithms\n",
    "filename_runtime = \"scripts/sobot_information2.csv\""
   ]
  },
  {
   "cell_type": "markdown",
   "metadata": {},
   "source": [
    "## 1. Accuray of the SLAM Evaluations\n",
    "This analysis is based on the file sobot_information1.csv"
   ]
  },
  {
   "cell_type": "code",
   "execution_count": 3,
   "metadata": {},
   "outputs": [
    {
     "data": {
      "text/html": [
       "<div>\n",
       "<style scoped>\n",
       "    .dataframe tbody tr th:only-of-type {\n",
       "        vertical-align: middle;\n",
       "    }\n",
       "\n",
       "    .dataframe tbody tr th {\n",
       "        vertical-align: top;\n",
       "    }\n",
       "\n",
       "    .dataframe thead th {\n",
       "        text-align: right;\n",
       "    }\n",
       "</style>\n",
       "<table border=\"1\" class=\"dataframe\">\n",
       "  <thead>\n",
       "    <tr style=\"text-align: right;\">\n",
       "      <th></th>\n",
       "      <th>sim_circle</th>\n",
       "      <th>landmark_id</th>\n",
       "      <th>estimated_landmark_position</th>\n",
       "      <th>estimated_robot_pose</th>\n",
       "      <th>actual_landmark_position</th>\n",
       "      <th>actual_robot_pose</th>\n",
       "      <th>slam_name</th>\n",
       "    </tr>\n",
       "  </thead>\n",
       "  <tbody>\n",
       "    <tr>\n",
       "      <th>0</th>\n",
       "      <td>10</td>\n",
       "      <td>52</td>\n",
       "      <td>(0.10060011628500556, -0.3269232389263757)</td>\n",
       "      <td>(0.03503858262638248, -0.07558573262769268, -2...</td>\n",
       "      <td>(0.08672876526352813, -0.3484355423094351, -1....</td>\n",
       "      <td>(0.04353408280063603, -0.07127297463716915, -2...</td>\n",
       "      <td>EKF SLAM</td>\n",
       "    </tr>\n",
       "    <tr>\n",
       "      <th>1</th>\n",
       "      <td>10</td>\n",
       "      <td>52</td>\n",
       "      <td>(0.1005274524940554, -0.32493695781109005)</td>\n",
       "      <td>(0.035725804269451614, -0.07340246086189228, -...</td>\n",
       "      <td>(0.08672876526352813, -0.3484355423094351, -1....</td>\n",
       "      <td>(0.04353408280063603, -0.07127297463716915, -2...</td>\n",
       "      <td>FastSLAM</td>\n",
       "    </tr>\n",
       "    <tr>\n",
       "      <th>2</th>\n",
       "      <td>11</td>\n",
       "      <td>52</td>\n",
       "      <td>(0.10060011628500556, -0.3269232389263757)</td>\n",
       "      <td>(0.025349270966128372, -0.090023830925939, -2....</td>\n",
       "      <td>(0.08672876526352813, -0.3484355423094351, -1....</td>\n",
       "      <td>(0.03552066851884916, -0.08675590211872318, -2...</td>\n",
       "      <td>EKF SLAM</td>\n",
       "    </tr>\n",
       "    <tr>\n",
       "      <th>3</th>\n",
       "      <td>11</td>\n",
       "      <td>52</td>\n",
       "      <td>(0.10267951703101169, -0.32746394781650323)</td>\n",
       "      <td>(0.026756356586633896, -0.0904967001901178, -2...</td>\n",
       "      <td>(0.08672876526352813, -0.3484355423094351, -1....</td>\n",
       "      <td>(0.03552066851884916, -0.08675590211872318, -2...</td>\n",
       "      <td>FastSLAM</td>\n",
       "    </tr>\n",
       "    <tr>\n",
       "      <th>4</th>\n",
       "      <td>12</td>\n",
       "      <td>52</td>\n",
       "      <td>(0.10060011628500556, -0.3269232389263757)</td>\n",
       "      <td>(0.010564374015510964, -0.1055107910629187, -2...</td>\n",
       "      <td>(0.08672876526352813, -0.3484355423094351, -1....</td>\n",
       "      <td>(0.02165671881494718, -0.1030875003508545, -2....</td>\n",
       "      <td>EKF SLAM</td>\n",
       "    </tr>\n",
       "  </tbody>\n",
       "</table>\n",
       "</div>"
      ],
      "text/plain": [
       "   sim_circle  landmark_id                  estimated_landmark_position  \\\n",
       "0          10           52   (0.10060011628500556, -0.3269232389263757)   \n",
       "1          10           52   (0.1005274524940554, -0.32493695781109005)   \n",
       "2          11           52   (0.10060011628500556, -0.3269232389263757)   \n",
       "3          11           52  (0.10267951703101169, -0.32746394781650323)   \n",
       "4          12           52   (0.10060011628500556, -0.3269232389263757)   \n",
       "\n",
       "                                estimated_robot_pose  \\\n",
       "0  (0.03503858262638248, -0.07558573262769268, -2...   \n",
       "1  (0.035725804269451614, -0.07340246086189228, -...   \n",
       "2  (0.025349270966128372, -0.090023830925939, -2....   \n",
       "3  (0.026756356586633896, -0.0904967001901178, -2...   \n",
       "4  (0.010564374015510964, -0.1055107910629187, -2...   \n",
       "\n",
       "                            actual_landmark_position  \\\n",
       "0  (0.08672876526352813, -0.3484355423094351, -1....   \n",
       "1  (0.08672876526352813, -0.3484355423094351, -1....   \n",
       "2  (0.08672876526352813, -0.3484355423094351, -1....   \n",
       "3  (0.08672876526352813, -0.3484355423094351, -1....   \n",
       "4  (0.08672876526352813, -0.3484355423094351, -1....   \n",
       "\n",
       "                                   actual_robot_pose slam_name  \n",
       "0  (0.04353408280063603, -0.07127297463716915, -2...  EKF SLAM  \n",
       "1  (0.04353408280063603, -0.07127297463716915, -2...  FastSLAM  \n",
       "2  (0.03552066851884916, -0.08675590211872318, -2...  EKF SLAM  \n",
       "3  (0.03552066851884916, -0.08675590211872318, -2...  FastSLAM  \n",
       "4  (0.02165671881494718, -0.1030875003508545, -2....  EKF SLAM  "
      ]
     },
     "execution_count": 3,
     "metadata": {},
     "output_type": "execute_result"
    }
   ],
   "source": [
    "df = pd.read_csv(filename_evaluation, index_col=0)\n",
    "df.head(5)"
   ]
  },
  {
   "cell_type": "code",
   "execution_count": 4,
   "metadata": {},
   "outputs": [
    {
     "name": "stderr",
     "output_type": "stream",
     "text": [
      "/home/yixing/.local/lib/python3.8/site-packages/pandas/core/indexing.py:1596: SettingWithCopyWarning: \n",
      "A value is trying to be set on a copy of a slice from a DataFrame.\n",
      "Try using .loc[row_indexer,col_indexer] = value instead\n",
      "\n",
      "See the caveats in the documentation: https://pandas.pydata.org/pandas-docs/stable/user_guide/indexing.html#returning-a-view-versus-a-copy\n",
      "  self.obj[key] = _infer_fill_value(value)\n",
      "/home/yixing/.local/lib/python3.8/site-packages/pandas/core/indexing.py:1743: SettingWithCopyWarning: \n",
      "A value is trying to be set on a copy of a slice from a DataFrame.\n",
      "Try using .loc[row_indexer,col_indexer] = value instead\n",
      "\n",
      "See the caveats in the documentation: https://pandas.pydata.org/pandas-docs/stable/user_guide/indexing.html#returning-a-view-versus-a-copy\n",
      "  isetter(ilocs[0], value)\n"
     ]
    }
   ],
   "source": [
    "df_lm = df[[\"sim_circle\", \"slam_name\", \"landmark_id\", \"estimated_landmark_position\", \"actual_landmark_position\"]]\n",
    "actual_landmark_position =  np.array([eval(x)[0:2] for x in df_lm[\"actual_landmark_position\"].tolist()])\n",
    "estimated_landmark_position = np.array([eval(x) for x in df_lm[\"estimated_landmark_position\"].tolist()])\n",
    "distance = np.linalg.norm(actual_landmark_position-estimated_landmark_position, axis = 1)\n",
    "df_lm.loc[:, 'distance'] = distance"
   ]
  },
  {
   "cell_type": "code",
   "execution_count": 5,
   "metadata": {},
   "outputs": [
    {
     "data": {
      "text/html": [
       "<div>\n",
       "<style scoped>\n",
       "    .dataframe tbody tr th:only-of-type {\n",
       "        vertical-align: middle;\n",
       "    }\n",
       "\n",
       "    .dataframe tbody tr th {\n",
       "        vertical-align: top;\n",
       "    }\n",
       "\n",
       "    .dataframe thead th {\n",
       "        text-align: right;\n",
       "    }\n",
       "</style>\n",
       "<table border=\"1\" class=\"dataframe\">\n",
       "  <thead>\n",
       "    <tr style=\"text-align: right;\">\n",
       "      <th>slam_name</th>\n",
       "      <th>EKF SLAM</th>\n",
       "      <th>FastSLAM</th>\n",
       "      <th>Graph-based SLAM</th>\n",
       "    </tr>\n",
       "    <tr>\n",
       "      <th>sim_circle</th>\n",
       "      <th></th>\n",
       "      <th></th>\n",
       "      <th></th>\n",
       "    </tr>\n",
       "  </thead>\n",
       "  <tbody>\n",
       "    <tr>\n",
       "      <th>5157</th>\n",
       "      <td>0.086239</td>\n",
       "      <td>0.135024</td>\n",
       "      <td>0.034914</td>\n",
       "    </tr>\n",
       "    <tr>\n",
       "      <th>5158</th>\n",
       "      <td>0.085997</td>\n",
       "      <td>0.135031</td>\n",
       "      <td>0.034914</td>\n",
       "    </tr>\n",
       "    <tr>\n",
       "      <th>5159</th>\n",
       "      <td>0.085853</td>\n",
       "      <td>0.135038</td>\n",
       "      <td>0.034914</td>\n",
       "    </tr>\n",
       "    <tr>\n",
       "      <th>5160</th>\n",
       "      <td>0.085762</td>\n",
       "      <td>0.135046</td>\n",
       "      <td>0.034914</td>\n",
       "    </tr>\n",
       "    <tr>\n",
       "      <th>5161</th>\n",
       "      <td>0.085703</td>\n",
       "      <td>0.135061</td>\n",
       "      <td>0.034914</td>\n",
       "    </tr>\n",
       "    <tr>\n",
       "      <th>5162</th>\n",
       "      <td>0.085663</td>\n",
       "      <td>0.135079</td>\n",
       "      <td>0.034914</td>\n",
       "    </tr>\n",
       "    <tr>\n",
       "      <th>5163</th>\n",
       "      <td>0.085606</td>\n",
       "      <td>0.135099</td>\n",
       "      <td>0.034914</td>\n",
       "    </tr>\n",
       "    <tr>\n",
       "      <th>5164</th>\n",
       "      <td>0.085622</td>\n",
       "      <td>0.135121</td>\n",
       "      <td>0.034914</td>\n",
       "    </tr>\n",
       "    <tr>\n",
       "      <th>5165</th>\n",
       "      <td>0.085638</td>\n",
       "      <td>0.135146</td>\n",
       "      <td>0.034914</td>\n",
       "    </tr>\n",
       "    <tr>\n",
       "      <th>5166</th>\n",
       "      <td>0.085638</td>\n",
       "      <td>0.135146</td>\n",
       "      <td>0.034914</td>\n",
       "    </tr>\n",
       "  </tbody>\n",
       "</table>\n",
       "</div>"
      ],
      "text/plain": [
       "slam_name   EKF SLAM  FastSLAM  Graph-based SLAM\n",
       "sim_circle                                      \n",
       "5157        0.086239  0.135024          0.034914\n",
       "5158        0.085997  0.135031          0.034914\n",
       "5159        0.085853  0.135038          0.034914\n",
       "5160        0.085762  0.135046          0.034914\n",
       "5161        0.085703  0.135061          0.034914\n",
       "5162        0.085663  0.135079          0.034914\n",
       "5163        0.085606  0.135099          0.034914\n",
       "5164        0.085622  0.135121          0.034914\n",
       "5165        0.085638  0.135146          0.034914\n",
       "5166        0.085638  0.135146          0.034914"
      ]
     },
     "execution_count": 5,
     "metadata": {},
     "output_type": "execute_result"
    }
   ],
   "source": [
    "df_lm_sum = df_lm.groupby(['sim_circle','slam_name'])[\"distance\"].mean().unstack(level = -1)\n",
    "df_lm_sum.tail(10)"
   ]
  },
  {
   "cell_type": "code",
   "execution_count": 6,
   "metadata": {},
   "outputs": [],
   "source": [
    "df_robot = df[[\"sim_circle\",\"estimated_robot_pose\",\"actual_robot_pose\",\"slam_name\"]]\n",
    "df_robot = df_robot.drop_duplicates([\"sim_circle\", \"slam_name\"])\n",
    "estimated_robot_pose = np.array([eval(x)[0:2] for x in df_robot[\"estimated_robot_pose\"].tolist()])\n",
    "actual_robot_pose = np.array([eval(x)[0:2] for x in df_robot[\"actual_robot_pose\"].tolist()])\n",
    "distance = np.linalg.norm(estimated_robot_pose-actual_robot_pose, axis = 1)\n",
    "df_robot.loc[:, 'distance'] = distance\n",
    "df_robot_pivot = df_robot.pivot(index = \"sim_circle\", columns = \"slam_name\", \n",
    "            values=\"distance\")"
   ]
  },
  {
   "cell_type": "markdown",
   "metadata": {},
   "source": [
    "## Average distance to true landmark in meters"
   ]
  },
  {
   "cell_type": "code",
   "execution_count": 7,
   "metadata": {},
   "outputs": [
    {
     "data": {
      "image/png": "[encoded data removed]",
      "text/plain": [
       "<Figure size 1080x216 with 3 Axes>"
      ]
     },
     "metadata": {
      "needs_background": "light"
     },
     "output_type": "display_data"
    }
   ],
   "source": [
    "plt.subplot(1,3,1)\n",
    "df_lm_sum[\"EKF SLAM\"].plot(color = \"k\", rot = 0, figsize=(15,3))\n",
    "plt.xlabel(\"Simulation cycles\")\n",
    "plt.ylabel(\"Average distance to true landmark in meters\")\n",
    "plt.title(\"EKF SLAM\")\n",
    "#plt.ylim(0,6)\n",
    "\n",
    "plt.subplot(1,3,2)\n",
    "df_lm_sum[\"FastSLAM\"].plot(color = \"k\", rot = 0, figsize=(15,3))\n",
    "plt.xlabel(\"Simulation cycles\")\n",
    "plt.ylabel(\"Average distance to true landmark in meters\")\n",
    "plt.title(\"FastSLAM\")\n",
    "\n",
    "plt.subplot(1,3,3)\n",
    "df_lm_sum[\"Graph-based SLAM\"].plot(color = \"k\", rot = 0, figsize=(15,3))\n",
    "plt.xlabel(\"Simulation cycles\")\n",
    "plt.ylabel(\"Average distance to true landmark in meters\")\n",
    "plt.title(\"Graph-based SLAM\")\n",
    "plt.suptitle(\"Evaluation of SLAM\", size = 18)\n",
    "plt.tight_layout()\n",
    "plt.savefig('./scripts/fig/{0}.eps'.format(\"fig1\"), format='eps', bbox_inches='tight')"
   ]
  },
  {
   "cell_type": "markdown",
   "metadata": {},
   "source": [
    "# Runtime for Update\n",
    "This analysis is based on the file sobot_information2.csv"
   ]
  },
  {
   "cell_type": "code",
   "execution_count": 8,
   "metadata": {},
   "outputs": [
    {
     "data": {
      "text/html": [
       "<div>\n",
       "<style scoped>\n",
       "    .dataframe tbody tr th:only-of-type {\n",
       "        vertical-align: middle;\n",
       "    }\n",
       "\n",
       "    .dataframe tbody tr th {\n",
       "        vertical-align: top;\n",
       "    }\n",
       "\n",
       "    .dataframe thead th {\n",
       "        text-align: right;\n",
       "    }\n",
       "</style>\n",
       "<table border=\"1\" class=\"dataframe\">\n",
       "  <thead>\n",
       "    <tr style=\"text-align: right;\">\n",
       "      <th></th>\n",
       "      <th>sim_circle</th>\n",
       "      <th>name</th>\n",
       "      <th>time_per_update</th>\n",
       "    </tr>\n",
       "  </thead>\n",
       "  <tbody>\n",
       "    <tr>\n",
       "      <th>0</th>\n",
       "      <td>1</td>\n",
       "      <td>EKF SLAM</td>\n",
       "      <td>0.000150</td>\n",
       "    </tr>\n",
       "    <tr>\n",
       "      <th>1</th>\n",
       "      <td>1</td>\n",
       "      <td>FastSLAM</td>\n",
       "      <td>0.006748</td>\n",
       "    </tr>\n",
       "    <tr>\n",
       "      <th>2</th>\n",
       "      <td>1</td>\n",
       "      <td>Graph-based SLAM</td>\n",
       "      <td>0.000042</td>\n",
       "    </tr>\n",
       "    <tr>\n",
       "      <th>3</th>\n",
       "      <td>2</td>\n",
       "      <td>EKF SLAM</td>\n",
       "      <td>0.000116</td>\n",
       "    </tr>\n",
       "    <tr>\n",
       "      <th>4</th>\n",
       "      <td>2</td>\n",
       "      <td>FastSLAM</td>\n",
       "      <td>0.008304</td>\n",
       "    </tr>\n",
       "  </tbody>\n",
       "</table>\n",
       "</div>"
      ],
      "text/plain": [
       "   sim_circle              name  time_per_update\n",
       "0           1          EKF SLAM         0.000150\n",
       "1           1          FastSLAM         0.006748\n",
       "2           1  Graph-based SLAM         0.000042\n",
       "3           2          EKF SLAM         0.000116\n",
       "4           2          FastSLAM         0.008304"
      ]
     },
     "execution_count": 8,
     "metadata": {},
     "output_type": "execute_result"
    }
   ],
   "source": [
    "df2 = pd.read_csv(filename_runtime, index_col=0)\n",
    "df2.head(5)"
   ]
  },
  {
   "cell_type": "code",
   "execution_count": 9,
   "metadata": {},
   "outputs": [
    {
     "data": {
      "text/html": [
       "<div>\n",
       "<style scoped>\n",
       "    .dataframe tbody tr th:only-of-type {\n",
       "        vertical-align: middle;\n",
       "    }\n",
       "\n",
       "    .dataframe tbody tr th {\n",
       "        vertical-align: top;\n",
       "    }\n",
       "\n",
       "    .dataframe thead th {\n",
       "        text-align: right;\n",
       "    }\n",
       "</style>\n",
       "<table border=\"1\" class=\"dataframe\">\n",
       "  <thead>\n",
       "    <tr style=\"text-align: right;\">\n",
       "      <th>name</th>\n",
       "      <th>EKF SLAM</th>\n",
       "      <th>FastSLAM</th>\n",
       "      <th>Graph-based SLAM</th>\n",
       "    </tr>\n",
       "    <tr>\n",
       "      <th>sim_circle</th>\n",
       "      <th></th>\n",
       "      <th></th>\n",
       "      <th></th>\n",
       "    </tr>\n",
       "  </thead>\n",
       "  <tbody>\n",
       "    <tr>\n",
       "      <th>1</th>\n",
       "      <td>0.000150</td>\n",
       "      <td>0.006748</td>\n",
       "      <td>0.000042</td>\n",
       "    </tr>\n",
       "    <tr>\n",
       "      <th>2</th>\n",
       "      <td>0.000116</td>\n",
       "      <td>0.008304</td>\n",
       "      <td>0.000069</td>\n",
       "    </tr>\n",
       "    <tr>\n",
       "      <th>3</th>\n",
       "      <td>0.000149</td>\n",
       "      <td>0.009091</td>\n",
       "      <td>0.000069</td>\n",
       "    </tr>\n",
       "    <tr>\n",
       "      <th>4</th>\n",
       "      <td>0.000097</td>\n",
       "      <td>0.009164</td>\n",
       "      <td>0.000106</td>\n",
       "    </tr>\n",
       "    <tr>\n",
       "      <th>5</th>\n",
       "      <td>0.000095</td>\n",
       "      <td>0.007286</td>\n",
       "      <td>0.000071</td>\n",
       "    </tr>\n",
       "  </tbody>\n",
       "</table>\n",
       "</div>"
      ],
      "text/plain": [
       "name        EKF SLAM  FastSLAM  Graph-based SLAM\n",
       "sim_circle                                      \n",
       "1           0.000150  0.006748          0.000042\n",
       "2           0.000116  0.008304          0.000069\n",
       "3           0.000149  0.009091          0.000069\n",
       "4           0.000097  0.009164          0.000106\n",
       "5           0.000095  0.007286          0.000071"
      ]
     },
     "execution_count": 9,
     "metadata": {},
     "output_type": "execute_result"
    }
   ],
   "source": [
    "df2_mean = df2.groupby([\"sim_circle\", \"name\"])[\"time_per_update\"].mean().unstack()\n",
    "df2_mean.head(5)"
   ]
  },
  {
   "cell_type": "markdown",
   "metadata": {},
   "source": [
    "## 1. Cumulative Time Used for Updates "
   ]
  },
  {
   "cell_type": "code",
   "execution_count": 10,
   "metadata": {},
   "outputs": [
    {
     "data": {
      "image/png": "[encoded data removed]",
      "text/plain": [
       "<Figure size 1080x432 with 3 Axes>"
      ]
     },
     "metadata": {
      "needs_background": "light"
     },
     "output_type": "display_data"
    }
   ],
   "source": [
    "df2_cum = df2_mean.cumsum() #.plot(subplots=True, layout=(2,3), figsize = (12,8), rot = 0)\n",
    "\n",
    "plt.subplot(2,3,1)\n",
    "\n",
    "df2_cum[\"EKF SLAM\"].plot(color = \"k\", rot = 0, figsize=(15,6))\n",
    "plt.xlabel(\"Simulation circles\")\n",
    "plt.ylabel(\"Cumulative time used for updates [s]\")\n",
    "plt.title(\"EKF SLAM\")\n",
    "\n",
    "plt.subplot(2,3,2)\n",
    "df2_cum[\"FastSLAM\"].plot(color = \"k\", rot = 0, figsize=(15,6))\n",
    "plt.xlabel(\"Simulation circles\")\n",
    "plt.ylabel(\"Cumulative time used for updates [s]\")\n",
    "plt.title(\"Fast SLAM\")\n",
    "\n",
    "plt.subplot(2,3,3)\n",
    "df2_cum[\"Graph-based SLAM\"].plot(color = \"k\", rot = 0, figsize=(15,6))\n",
    "plt.xlabel(\"Simulation circles\")\n",
    "plt.ylabel(\"Cumulative time used for updates [s]\")\n",
    "plt.title(\"Graph-based SLAM\")\n",
    "\n",
    "plt.suptitle(\"Cumulative Time Used for Updates\", size = 18)\n",
    "plt.tight_layout()\n",
    "plt.savefig('./scripts/fig/{0}.eps'.format(\"fig2\"), format='eps', bbox_inches='tight')"
   ]
  },
  {
   "cell_type": "code",
   "execution_count": null,
   "metadata": {},
   "outputs": [],
   "source": []
  }
 ],
 "metadata": {
  "kernelspec": {
   "display_name": "Python 3",
   "language": "python",
   "name": "python3"
  },
  "language_info": {
   "codemirror_mode": {
    "name": "ipython",
    "version": 3
   },
   "file_extension": ".py",
   "mimetype": "text/x-python",
   "name": "python",
   "nbconvert_exporter": "python",
   "pygments_lexer": "ipython3",
   "version": "3.8.5"
  }
 },
 "nbformat": 4,
 "nbformat_minor": 4
}
